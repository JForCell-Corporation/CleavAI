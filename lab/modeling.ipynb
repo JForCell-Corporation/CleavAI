{
 "cells": [
  {
   "cell_type": "markdown",
   "id": "8c1c7211",
   "metadata": {},
   "source": [
    "# CleavAI\n",
    "\n",
    "© 2025 JForCell Corporation. All Rights Reserved."
   ]
  },
  {
   "cell_type": "code",
   "execution_count": 1,
   "id": "4805b798",
   "metadata": {},
   "outputs": [],
   "source": [
    "import warnings\n",
    "from collections import Counter\n",
    "\n",
    "import pandas as pd\n",
    "import numpy as np\n",
    "from Bio.SeqUtils.ProtParam import ProteinAnalysis\n",
    "\n",
    "from sklearn.model_selection import train_test_split\n",
    "from sklearn.preprocessing import StandardScaler\n",
    "from sklearn.metrics import precision_score, recall_score, f1_score, accuracy_score\n",
    "from sklearn.metrics import roc_curve, auc\n",
    "from sklearn.metrics import precision_recall_curve, average_precision_score\n",
    "from sklearn.manifold import TSNE\n",
    "\n",
    "from transformers import BertModel, BertTokenizer\n",
    "\n",
    "import torch\n",
    "import torch.nn as nn\n",
    "from torch.utils.data import TensorDataset, DataLoader\n",
    "\n",
    "import seaborn as sns\n",
    "import matplotlib.pyplot as plt\n",
    "\n",
    "from tqdm import tqdm"
   ]
  },
  {
   "cell_type": "code",
   "execution_count": 2,
   "id": "4ea53ad6",
   "metadata": {},
   "outputs": [],
   "source": [
    "device = torch.device(\"mps\" if torch.backends.mps.is_available() else \"cpu\")\n",
    "warnings.filterwarnings(\"ignore\")"
   ]
  },
  {
   "cell_type": "markdown",
   "id": "bec1f1d7",
   "metadata": {},
   "source": [
    "### Final DataFrame"
   ]
  },
  {
   "cell_type": "markdown",
   "id": "355a767b",
   "metadata": {},
   "source": [
    "#### Feature Engineering"
   ]
  },
  {
   "cell_type": "code",
   "execution_count": 3,
   "id": "d6f2e2e2",
   "metadata": {},
   "outputs": [],
   "source": [
    "df = pd.read_csv(\"./all_windows.csv\")"
   ]
  },
  {
   "cell_type": "code",
   "execution_count": 4,
   "id": "bce1948b",
   "metadata": {},
   "outputs": [],
   "source": [
    "def extract_bio_features(seq):\n",
    "    pa = ProteinAnalysis(seq)\n",
    "    aa_count = pa.count_amino_acids()\n",
    "    length = len(seq)\n",
    "    basic = sum(aa_count.get(aa, 0) for aa in \"KRH\")\n",
    "    acidic = sum(aa_count.get(aa, 0) for aa in \"DE\")\n",
    "    hydrophobic = sum(aa_count.get(aa, 0) for aa in \"AILMFWV\")\n",
    "    polar = sum(aa_count.get(aa, 0) for aa in \"STNQYCH\")\n",
    "    return {\n",
    "        \"molecular_weight\": pa.molecular_weight(),\n",
    "        \"isoelectric_point\": pa.isoelectric_point(),\n",
    "        \"aromaticity\": pa.aromaticity(),\n",
    "        \"instability_index\": pa.instability_index(),\n",
    "        \"gravy\": pa.gravy(),\n",
    "        \"flexibility_avg\": sum(pa.flexibility()) / length,\n",
    "        \"basic_fraction\": basic / length,\n",
    "        \"acidic_fraction\": acidic / length,\n",
    "        \"hydrophobic_fraction\": hydrophobic / length,\n",
    "        \"polar_fraction\": polar / length,\n",
    "        \"net_charge\": basic - acidic,\n",
    "        \"P1_is_R\": int(seq[3] == 'R') if length > 3 else 0,\n",
    "        \"P4_is_R\": int(seq[0] == 'R') if length > 0 else 0,\n",
    "        \"P2_is_KR\": int(seq[2] in \"KR\") if length > 2 else 0,\n",
    "        \"has_RXKR\": int(\"R\" in seq and seq.find(\"R\") <= length - 3 and seq[seq.find(\"R\")+2:seq.find(\"R\")+4] == \"KR\")\n",
    "    }\n",
    "\n",
    "df_bio_features = df[\"cleavage_window\"].apply(extract_bio_features).apply(pd.Series)"
   ]
  },
  {
   "cell_type": "markdown",
   "id": "69f80f83",
   "metadata": {},
   "source": [
    "#### ProtBERT Embeddings"
   ]
  },
  {
   "cell_type": "code",
   "execution_count": 5,
   "id": "58a71c9b",
   "metadata": {},
   "outputs": [
    {
     "name": "stderr",
     "output_type": "stream",
     "text": [
      "100%|██████████| 3236/3236 [00:51<00:00, 62.45it/s]\n"
     ]
    }
   ],
   "source": [
    "tokenizer = BertTokenizer.from_pretrained(\"Rostlab/prot_bert\", do_lower_case=False)\n",
    "bert_model = BertModel.from_pretrained(\"Rostlab/prot_bert\").eval()\n",
    "bert_model = bert_model.to(device)\n",
    "\n",
    "def format_peptide(seq):\n",
    "    return ' '.join(seq)\n",
    "\n",
    "def get_protbert_embedding(seq):\n",
    "    seq = format_peptide(seq)\n",
    "    tokens = tokenizer(seq, return_tensors=\"pt\")\n",
    "    input_ids = tokens[\"input_ids\"].to(device)\n",
    "    attention_mask = tokens[\"attention_mask\"].to(device)\n",
    "    with torch.no_grad():\n",
    "        outputs = bert_model(input_ids=input_ids, attention_mask=attention_mask)\n",
    "        return outputs.last_hidden_state[0, 0, :].cpu().numpy()\n",
    "\n",
    "embeddings = [get_protbert_embedding(seq) for seq in tqdm(df[\"cleavage_window\"])]\n",
    "df_bert = pd.DataFrame(embeddings)"
   ]
  },
  {
   "cell_type": "markdown",
   "id": "6b733be0",
   "metadata": {},
   "source": [
    "#### Concat"
   ]
  },
  {
   "cell_type": "code",
   "execution_count": 6,
   "id": "d7576123",
   "metadata": {},
   "outputs": [],
   "source": [
    "df_bert.columns = df_bert.columns.astype(str)\n",
    "df_bio_features.columns = df_bio_features.columns.astype(str)\n",
    "\n",
    "df_full = pd.concat([df_bio_features.reset_index(drop=True), df_bert.reset_index(drop=True), df[\"label\"].reset_index(drop=True)], axis=1)\n",
    "\n",
    "X = df_full.drop(\"label\", axis=1).astype(\"float32\")\n",
    "y = df_full[\"label\"].astype(\"float32\")"
   ]
  },
  {
   "cell_type": "code",
   "execution_count": 7,
   "id": "dc0a7f3e",
   "metadata": {},
   "outputs": [
    {
     "data": {
      "text/html": [
       "<div>\n",
       "<style scoped>\n",
       "    .dataframe tbody tr th:only-of-type {\n",
       "        vertical-align: middle;\n",
       "    }\n",
       "\n",
       "    .dataframe tbody tr th {\n",
       "        vertical-align: top;\n",
       "    }\n",
       "\n",
       "    .dataframe thead th {\n",
       "        text-align: right;\n",
       "    }\n",
       "</style>\n",
       "<table border=\"1\" class=\"dataframe\">\n",
       "  <thead>\n",
       "    <tr style=\"text-align: right;\">\n",
       "      <th></th>\n",
       "      <th>molecular_weight</th>\n",
       "      <th>isoelectric_point</th>\n",
       "      <th>aromaticity</th>\n",
       "      <th>instability_index</th>\n",
       "      <th>gravy</th>\n",
       "      <th>flexibility_avg</th>\n",
       "      <th>basic_fraction</th>\n",
       "      <th>acidic_fraction</th>\n",
       "      <th>hydrophobic_fraction</th>\n",
       "      <th>polar_fraction</th>\n",
       "      <th>...</th>\n",
       "      <th>1015</th>\n",
       "      <th>1016</th>\n",
       "      <th>1017</th>\n",
       "      <th>1018</th>\n",
       "      <th>1019</th>\n",
       "      <th>1020</th>\n",
       "      <th>1021</th>\n",
       "      <th>1022</th>\n",
       "      <th>1023</th>\n",
       "      <th>label</th>\n",
       "    </tr>\n",
       "  </thead>\n",
       "  <tbody>\n",
       "    <tr>\n",
       "      <th>0</th>\n",
       "      <td>830.9523</td>\n",
       "      <td>9.795020</td>\n",
       "      <td>0.000</td>\n",
       "      <td>77.6125</td>\n",
       "      <td>-0.3625</td>\n",
       "      <td>0.0</td>\n",
       "      <td>0.125</td>\n",
       "      <td>0.000</td>\n",
       "      <td>0.375</td>\n",
       "      <td>0.250</td>\n",
       "      <td>...</td>\n",
       "      <td>0.027726</td>\n",
       "      <td>-0.033809</td>\n",
       "      <td>-0.112222</td>\n",
       "      <td>0.000381</td>\n",
       "      <td>-0.149614</td>\n",
       "      <td>-0.102910</td>\n",
       "      <td>-0.039104</td>\n",
       "      <td>-0.059422</td>\n",
       "      <td>-0.015624</td>\n",
       "      <td>0</td>\n",
       "    </tr>\n",
       "    <tr>\n",
       "      <th>1</th>\n",
       "      <td>1029.2378</td>\n",
       "      <td>11.000385</td>\n",
       "      <td>0.000</td>\n",
       "      <td>73.5750</td>\n",
       "      <td>-1.6875</td>\n",
       "      <td>0.0</td>\n",
       "      <td>0.500</td>\n",
       "      <td>0.125</td>\n",
       "      <td>0.250</td>\n",
       "      <td>0.125</td>\n",
       "      <td>...</td>\n",
       "      <td>0.040532</td>\n",
       "      <td>-0.090537</td>\n",
       "      <td>-0.157128</td>\n",
       "      <td>0.056218</td>\n",
       "      <td>-0.180328</td>\n",
       "      <td>-0.132918</td>\n",
       "      <td>-0.053840</td>\n",
       "      <td>-0.035835</td>\n",
       "      <td>0.027600</td>\n",
       "      <td>0</td>\n",
       "    </tr>\n",
       "    <tr>\n",
       "      <th>2</th>\n",
       "      <td>884.0581</td>\n",
       "      <td>9.507749</td>\n",
       "      <td>0.000</td>\n",
       "      <td>77.0250</td>\n",
       "      <td>-1.1000</td>\n",
       "      <td>0.0</td>\n",
       "      <td>0.250</td>\n",
       "      <td>0.000</td>\n",
       "      <td>0.125</td>\n",
       "      <td>0.250</td>\n",
       "      <td>...</td>\n",
       "      <td>-0.035274</td>\n",
       "      <td>0.010787</td>\n",
       "      <td>-0.086449</td>\n",
       "      <td>0.007868</td>\n",
       "      <td>-0.219744</td>\n",
       "      <td>-0.103184</td>\n",
       "      <td>-0.061995</td>\n",
       "      <td>-0.046654</td>\n",
       "      <td>-0.003053</td>\n",
       "      <td>1</td>\n",
       "    </tr>\n",
       "    <tr>\n",
       "      <th>3</th>\n",
       "      <td>986.1667</td>\n",
       "      <td>8.687711</td>\n",
       "      <td>0.000</td>\n",
       "      <td>-1.8625</td>\n",
       "      <td>-1.2375</td>\n",
       "      <td>0.0</td>\n",
       "      <td>0.375</td>\n",
       "      <td>0.250</td>\n",
       "      <td>0.375</td>\n",
       "      <td>0.000</td>\n",
       "      <td>...</td>\n",
       "      <td>0.054173</td>\n",
       "      <td>0.017081</td>\n",
       "      <td>-0.119059</td>\n",
       "      <td>-0.072451</td>\n",
       "      <td>-0.126138</td>\n",
       "      <td>-0.074783</td>\n",
       "      <td>-0.041763</td>\n",
       "      <td>-0.055947</td>\n",
       "      <td>-0.019595</td>\n",
       "      <td>0</td>\n",
       "    </tr>\n",
       "    <tr>\n",
       "      <th>4</th>\n",
       "      <td>1089.2445</td>\n",
       "      <td>6.915680</td>\n",
       "      <td>0.375</td>\n",
       "      <td>44.6500</td>\n",
       "      <td>-0.0250</td>\n",
       "      <td>0.0</td>\n",
       "      <td>0.250</td>\n",
       "      <td>0.000</td>\n",
       "      <td>0.375</td>\n",
       "      <td>0.500</td>\n",
       "      <td>...</td>\n",
       "      <td>-0.000230</td>\n",
       "      <td>0.049908</td>\n",
       "      <td>-0.161530</td>\n",
       "      <td>0.078383</td>\n",
       "      <td>-0.210160</td>\n",
       "      <td>-0.120043</td>\n",
       "      <td>-0.092228</td>\n",
       "      <td>0.092471</td>\n",
       "      <td>0.038006</td>\n",
       "      <td>1</td>\n",
       "    </tr>\n",
       "  </tbody>\n",
       "</table>\n",
       "<p>5 rows × 1040 columns</p>\n",
       "</div>"
      ],
      "text/plain": [
       "   molecular_weight  isoelectric_point  aromaticity  instability_index  \\\n",
       "0          830.9523           9.795020        0.000            77.6125   \n",
       "1         1029.2378          11.000385        0.000            73.5750   \n",
       "2          884.0581           9.507749        0.000            77.0250   \n",
       "3          986.1667           8.687711        0.000            -1.8625   \n",
       "4         1089.2445           6.915680        0.375            44.6500   \n",
       "\n",
       "    gravy  flexibility_avg  basic_fraction  acidic_fraction  \\\n",
       "0 -0.3625              0.0           0.125            0.000   \n",
       "1 -1.6875              0.0           0.500            0.125   \n",
       "2 -1.1000              0.0           0.250            0.000   \n",
       "3 -1.2375              0.0           0.375            0.250   \n",
       "4 -0.0250              0.0           0.250            0.000   \n",
       "\n",
       "   hydrophobic_fraction  polar_fraction  ...      1015      1016      1017  \\\n",
       "0                 0.375           0.250  ...  0.027726 -0.033809 -0.112222   \n",
       "1                 0.250           0.125  ...  0.040532 -0.090537 -0.157128   \n",
       "2                 0.125           0.250  ... -0.035274  0.010787 -0.086449   \n",
       "3                 0.375           0.000  ...  0.054173  0.017081 -0.119059   \n",
       "4                 0.375           0.500  ... -0.000230  0.049908 -0.161530   \n",
       "\n",
       "       1018      1019      1020      1021      1022      1023  label  \n",
       "0  0.000381 -0.149614 -0.102910 -0.039104 -0.059422 -0.015624      0  \n",
       "1  0.056218 -0.180328 -0.132918 -0.053840 -0.035835  0.027600      0  \n",
       "2  0.007868 -0.219744 -0.103184 -0.061995 -0.046654 -0.003053      1  \n",
       "3 -0.072451 -0.126138 -0.074783 -0.041763 -0.055947 -0.019595      0  \n",
       "4  0.078383 -0.210160 -0.120043 -0.092228  0.092471  0.038006      1  \n",
       "\n",
       "[5 rows x 1040 columns]"
      ]
     },
     "execution_count": 7,
     "metadata": {},
     "output_type": "execute_result"
    }
   ],
   "source": [
    "df_full.head()"
   ]
  },
  {
   "cell_type": "markdown",
   "id": "d62d2355",
   "metadata": {},
   "source": [
    "### Modeling"
   ]
  },
  {
   "cell_type": "markdown",
   "id": "8f1277a2",
   "metadata": {},
   "source": [
    "#### Train Test Split"
   ]
  },
  {
   "cell_type": "code",
   "execution_count": 8,
   "id": "91ba7411",
   "metadata": {},
   "outputs": [],
   "source": [
    "X = df_full.drop(\"label\", axis=1).astype(\"float32\")\n",
    "y = df_full[\"label\"].astype(\"float32\")\n",
    "\n",
    "X_train_raw, X_test_raw, y_train, y_test = train_test_split(\n",
    "    X, y, test_size=0.2, stratify=y, random_state=42\n",
    ")\n",
    "\n",
    "scaler = StandardScaler()\n",
    "X_train = scaler.fit_transform(X_train_raw)\n",
    "X_test = scaler.transform(X_test_raw)"
   ]
  },
  {
   "cell_type": "markdown",
   "id": "b9126868",
   "metadata": {},
   "source": [
    "#### DataLoader"
   ]
  },
  {
   "cell_type": "code",
   "execution_count": 9,
   "id": "cfa8b124",
   "metadata": {},
   "outputs": [],
   "source": [
    "train_ds = TensorDataset(torch.tensor(X_train, dtype=torch.float32), torch.tensor(y_train.values, dtype=torch.float32))\n",
    "test_ds = TensorDataset(torch.tensor(X_test, dtype=torch.float32), torch.tensor(y_test.values, dtype=torch.float32))\n",
    "\n",
    "train_loader = DataLoader(train_ds, batch_size=16, shuffle=True)\n",
    "test_loader = DataLoader(test_ds, batch_size=16)\n",
    "\n",
    "class BiochemBERTMLP(nn.Module):\n",
    "    def __init__(self, input_dim):\n",
    "        super().__init__()\n",
    "        self.net = nn.Sequential(\n",
    "            nn.Linear(input_dim, 128),\n",
    "            nn.BatchNorm1d(128),\n",
    "            nn.LeakyReLU(0.1),\n",
    "            nn.Dropout(0.3),\n",
    "            nn.Linear(128, 64),\n",
    "            nn.BatchNorm1d(64),\n",
    "            nn.LeakyReLU(0.1),\n",
    "            nn.Dropout(0.2),\n",
    "            nn.Linear(64, 1),\n",
    "            nn.Sigmoid()\n",
    "        )\n",
    "    def forward(self, x):\n",
    "        return self.net(x)\n",
    "\n",
    "model = BiochemBERTMLP(X.shape[1]).to(device)\n",
    "loss_fn = nn.BCELoss()\n",
    "optimizer = torch.optim.Adam(model.parameters(), lr=1e-3)"
   ]
  },
  {
   "cell_type": "code",
   "execution_count": 10,
   "id": "dcfe7140",
   "metadata": {},
   "outputs": [],
   "source": [
    "def evaluate_model(model, data_loader, threshold=0.5):\n",
    "    model.eval()\n",
    "    y_true, y_pred_prob = [], []\n",
    "\n",
    "    with torch.no_grad():\n",
    "        for xb, yb in data_loader:\n",
    "            xb = xb.to(device)\n",
    "            y_true.extend(yb.numpy())\n",
    "            preds = model(xb).squeeze().cpu().numpy()\n",
    "            y_pred_prob.extend(preds)\n",
    "\n",
    "    y_pred_bin = [1 if p > threshold else 0 for p in y_pred_prob]\n",
    "\n",
    "    return {\n",
    "        \"accuracy\": accuracy_score(y_true, y_pred_bin),\n",
    "        \"precision\": precision_score(y_true, y_pred_bin),\n",
    "        \"recall\": recall_score(y_true, y_pred_bin),\n",
    "        \"f1_score\": f1_score(y_true, y_pred_bin)\n",
    "    }"
   ]
  },
  {
   "cell_type": "code",
   "execution_count": 11,
   "id": "940dac2a",
   "metadata": {},
   "outputs": [
    {
     "name": "stdout",
     "output_type": "stream",
     "text": [
      "Epoch  1 | Loss: 0.4929 | Acc: 0.829 | Prec: 0.676 | Rec: 0.605 | F1: 0.638\n",
      "Epoch  2 | Loss: 0.3489 | Acc: 0.869 | Prec: 0.777 | Rec: 0.667 | F1: 0.718\n",
      "Epoch  3 | Loss: 0.2793 | Acc: 0.898 | Prec: 0.864 | Rec: 0.704 | F1: 0.776\n",
      "Epoch  4 | Loss: 0.2320 | Acc: 0.904 | Prec: 0.825 | Rec: 0.784 | F1: 0.804\n",
      "Epoch  5 | Loss: 0.2128 | Acc: 0.915 | Prec: 0.841 | Rec: 0.815 | F1: 0.828\n",
      "Epoch  6 | Loss: 0.1940 | Acc: 0.934 | Prec: 0.905 | Rec: 0.821 | F1: 0.861\n",
      "Epoch  7 | Loss: 0.1730 | Acc: 0.941 | Prec: 0.937 | Rec: 0.821 | F1: 0.875\n",
      "Epoch  8 | Loss: 0.1555 | Acc: 0.951 | Prec: 0.917 | Rec: 0.883 | F1: 0.899\n",
      "Epoch  9 | Loss: 0.1494 | Acc: 0.944 | Prec: 0.920 | Rec: 0.852 | F1: 0.885\n",
      "Epoch 10 | Loss: 0.1358 | Acc: 0.941 | Prec: 0.878 | Rec: 0.889 | F1: 0.883\n"
     ]
    }
   ],
   "source": [
    "num_epochs = 10\n",
    "for epoch in range(1, num_epochs + 1):\n",
    "    model.train()\n",
    "    epoch_loss = 0\n",
    "    total_samples = 0\n",
    "\n",
    "    for xb, yb in train_loader:\n",
    "        xb, yb = xb.to(device), yb.to(device)\n",
    "        optimizer.zero_grad()\n",
    "        preds = model(xb).squeeze()\n",
    "        loss = loss_fn(preds, yb)\n",
    "        loss.backward()\n",
    "        optimizer.step()\n",
    "\n",
    "        epoch_loss += loss.item() * len(xb)\n",
    "        total_samples += len(xb)\n",
    "\n",
    "    avg_loss = epoch_loss / total_samples\n",
    "    metrics = evaluate_model(model, test_loader)\n",
    "\n",
    "    print(f\"Epoch {epoch:2d} | Loss: {avg_loss:.4f} | \"\n",
    "          f\"Acc: {metrics['accuracy']:.3f} | \"\n",
    "          f\"Prec: {metrics['precision']:.3f} | \"\n",
    "          f\"Rec: {metrics['recall']:.3f} | \"\n",
    "          f\"F1: {metrics['f1_score']:.3f}\")"
   ]
  },
  {
   "cell_type": "code",
   "execution_count": 12,
   "id": "e6fb8e7a",
   "metadata": {},
   "outputs": [
    {
     "name": "stdout",
     "output_type": "stream",
     "text": [
      "Prediction mean: 0.25307918\n",
      "Prediction min/max: 8.682956e-07 0.9991641\n"
     ]
    }
   ],
   "source": [
    "model.eval()\n",
    "y_pred_probs = []\n",
    "y_true = []\n",
    "\n",
    "with torch.no_grad():\n",
    "    for xb, yb in test_loader:\n",
    "        xb = xb.to(device)\n",
    "        preds = model(xb).squeeze().cpu().numpy()\n",
    "        y_pred_probs.extend(preds)\n",
    "        y_true.extend(yb.numpy())\n",
    "\n",
    "print(\"Prediction mean:\", np.mean(y_pred_probs))\n",
    "print(\"Prediction min/max:\", np.min(y_pred_probs), np.max(y_pred_probs))"
   ]
  },
  {
   "cell_type": "markdown",
   "id": "99fb5928",
   "metadata": {},
   "source": [
    "### Candidates"
   ]
  },
  {
   "cell_type": "code",
   "execution_count": null,
   "id": "91bd641c",
   "metadata": {},
   "outputs": [],
   "source": [
    "def score_peptide(seq):\n",
    "    bio = extract_bio_features(seq)\n",
    "    bert = get_protbert_embedding(seq)\n",
    "\n",
    "    combined = np.concatenate([np.array(list(bio.values()), dtype=np.float32), bert])\n",
    "    combined_scaled = scaler.transform([combined])\n",
    "\n",
    "    with torch.no_grad():\n",
    "        x_tensor = torch.tensor(combined_scaled, dtype=torch.float32).to(device)\n",
    "        prob = model(x_tensor).item()\n",
    "\n",
    "    return {\n",
    "        \"peptide\": seq,\n",
    "        \"cleavage_prob\": prob,\n",
    "        **bio\n",
    "    }"
   ]
  },
  {
   "cell_type": "code",
   "execution_count": 42,
   "id": "87327213",
   "metadata": {},
   "outputs": [],
   "source": [
    "AA = \"ACDEFGHIKLMNPQRSTVWY\"\n",
    "BASIC = \"KR\"\n",
    "candidates = []\n",
    "\n",
    "# R-X-[K/R]-R↓\n",
    "for p3 in AA:\n",
    "    for p2 in BASIC:\n",
    "        for p1p in AA:\n",
    "            pep = \"R\" + p3 + p2 + \"R\" + p1p\n",
    "            candidates.append(pep)"
   ]
  },
  {
   "cell_type": "code",
   "execution_count": 43,
   "id": "61bda9ae",
   "metadata": {},
   "outputs": [],
   "source": [
    "scored_peptides = [score_peptide(p) for p in candidates]\n",
    "df_candidates = pd.DataFrame(scored_peptides)"
   ]
  },
  {
   "cell_type": "code",
   "execution_count": 44,
   "id": "f682f0ec",
   "metadata": {},
   "outputs": [
    {
     "name": "stdout",
     "output_type": "stream",
     "text": [
      "   peptide  cleavage_prob\n",
      "0     RVKR       0.986675\n",
      "1     RLKR       0.985134\n",
      "2     RTKR       0.981022\n",
      "3     RIKR       0.959773\n",
      "4     RFKR       0.958039\n",
      "5     RMKR       0.948339\n",
      "6     REKR       0.923416\n",
      "7     RPKR       0.922494\n",
      "8     RLRR       0.921858\n",
      "9     RAKR       0.919349\n",
      "10    RGKR       0.908254\n",
      "11    RGRR       0.901679\n",
      "12    RSKR       0.899338\n",
      "13    RVRR       0.819047\n",
      "14    RWKR       0.813216\n",
      "15    RMRR       0.809960\n",
      "16    RIRR       0.807744\n",
      "17    RTRR       0.791968\n",
      "18    RKKR       0.788310\n",
      "19    RYKR       0.736925\n"
     ]
    }
   ],
   "source": [
    "df_candidates['peptide'] = df_candidates['peptide'].str[:-1]\n",
    "df_candidates = df_candidates.groupby('peptide', as_index=False).mean(numeric_only=True)\n",
    "df_candidates = df_candidates.sort_values(\"cleavage_prob\", ascending=False).reset_index(drop=True)\n",
    "print(df_candidates[[\"peptide\", \"cleavage_prob\"]].head(20))"
   ]
  },
  {
   "cell_type": "markdown",
   "id": "59165cc5",
   "metadata": {},
   "source": [
    "### Plots"
   ]
  },
  {
   "cell_type": "code",
   "execution_count": 45,
   "id": "7f12dd73",
   "metadata": {},
   "outputs": [],
   "source": [
    "def plot_roc(y_true, y_probs):\n",
    "    fpr, tpr, _ = roc_curve(y_true, y_probs)\n",
    "    roc_auc = auc(fpr, tpr)\n",
    "\n",
    "    plt.figure(figsize=(6, 5))\n",
    "    plt.plot(fpr, tpr, label=f\"AUC = {roc_auc:.3f}\", lw=2, color=\"darkorange\")\n",
    "    plt.plot([0, 1], [0, 1], color=\"gray\", linestyle=\"--\")\n",
    "    plt.xlabel(\"False Positive Rate\")\n",
    "    plt.ylabel(\"True Positive Rate\")\n",
    "    plt.title(\"ROC Curve\")\n",
    "    plt.legend(loc=\"lower right\")\n",
    "    plt.grid(True)\n",
    "    plt.tight_layout()\n",
    "    plt.show()"
   ]
  },
  {
   "cell_type": "code",
   "execution_count": 46,
   "id": "9a4a36a4",
   "metadata": {},
   "outputs": [],
   "source": [
    "def plot_pr(y_true, y_probs):\n",
    "    precision, recall, _ = precision_recall_curve(y_true, y_probs)\n",
    "    ap = average_precision_score(y_true, y_probs)\n",
    "\n",
    "    plt.figure(figsize=(6, 5))\n",
    "    plt.plot(recall, precision, color=\"purple\", lw=2, label=f\"AP = {ap:.3f}\")\n",
    "    plt.xlabel(\"Recall\")\n",
    "    plt.ylabel(\"Precision\")\n",
    "    plt.title(\"Precision-Recall Curve\")\n",
    "    plt.grid(True)\n",
    "    plt.legend(loc=\"lower left\")\n",
    "    plt.tight_layout()\n",
    "    plt.show()"
   ]
  },
  {
   "cell_type": "code",
   "execution_count": 60,
   "id": "2cee8dda",
   "metadata": {},
   "outputs": [],
   "source": [
    "def plot_top_candidates(df, top_n=20, xlim_min=0.7, xlim_max=1):\n",
    "    df_top = df.sort_values(\"cleavage_prob\", ascending=False).head(top_n)\n",
    "\n",
    "    plt.figure(figsize=(10, 6))\n",
    "    ax = sns.barplot(\n",
    "        data=df_top,\n",
    "        x=\"cleavage_prob\",\n",
    "        y=\"peptide\",\n",
    "        palette=\"viridis\"\n",
    "    )\n",
    "\n",
    "    for _, bar in enumerate(ax.patches):\n",
    "        width = bar.get_width()\n",
    "        y = bar.get_y() + bar.get_height() / 2\n",
    "        ax.text(\n",
    "            width + 0.005, y,\n",
    "            f\"{width:.3f}\",\n",
    "            va=\"center\", ha=\"left\",\n",
    "            fontsize=9, color=\"black\"\n",
    "        )\n",
    "\n",
    "    plt.title(f\"Top {top_n} Predicted Cleavage Sequences\", fontsize=15, weight=\"medium\")\n",
    "    plt.xlabel(\"Cleavage Probability\", fontsize=12)\n",
    "    plt.ylabel(\"Peptide\", fontsize=12)\n",
    "    plt.xlim(xlim_min, xlim_max)\n",
    "    plt.xticks(fontsize=10)\n",
    "    plt.yticks(fontsize=10)\n",
    "    plt.grid(axis=\"x\", linestyle=\"--\", alpha=0.3)\n",
    "    plt.tight_layout()\n",
    "    plt.show()"
   ]
  },
  {
   "cell_type": "code",
   "execution_count": 61,
   "id": "9d79d489",
   "metadata": {},
   "outputs": [
    {
     "data": {
      "image/png": "[encoded data removed]",
      "text/plain": [
       "<Figure size 600x500 with 1 Axes>"
      ]
     },
     "metadata": {},
     "output_type": "display_data"
    },
    {
     "data": {
      "image/png": "[encoded data removed]",
      "text/plain": [
       "<Figure size 600x500 with 1 Axes>"
      ]
     },
     "metadata": {},
     "output_type": "display_data"
    },
    {
     "data": {
      "image/png": "[encoded data removed]",
      "text/plain": [
       "<Figure size 1000x600 with 1 Axes>"
      ]
     },
     "metadata": {},
     "output_type": "display_data"
    }
   ],
   "source": [
    "plot_roc(y_test, y_pred_probs)\n",
    "plot_pr(y_test, y_pred_probs)\n",
    "plot_top_candidates(df_candidates)\n"
   ]
  },
  {
   "cell_type": "code",
   "execution_count": null,
   "id": "7e9d7677",
   "metadata": {},
   "outputs": [],
   "source": []
  },
  {
   "cell_type": "code",
   "execution_count": null,
   "id": "047af01a",
   "metadata": {},
   "outputs": [],
   "source": []
  }
 ],
 "metadata": {
  "kernelspec": {
   "display_name": "CleavAI",
   "language": "python",
   "name": "python3"
  },
  "language_info": {
   "codemirror_mode": {
    "name": "ipython",
    "version": 3
   },
   "file_extension": ".py",
   "mimetype": "text/x-python",
   "name": "python",
   "nbconvert_exporter": "python",
   "pygments_lexer": "ipython3",
   "version": "3.10.18"
  }
 },
 "nbformat": 4,
 "nbformat_minor": 5
}
