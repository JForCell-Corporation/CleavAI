{
 "cells": [
  {
   "cell_type": "markdown",
   "id": "8c1c7211",
   "metadata": {},
   "source": [
    "# CleavAI\n",
    "\n",
    "© 2025 JForCell Corporation. All Rights Reserved."
   ]
  },
  {
   "cell_type": "code",
   "execution_count": 118,
   "id": "4805b798",
   "metadata": {},
   "outputs": [],
   "source": [
    "import warnings\n",
    "from collections import Counter\n",
    "\n",
    "import pandas as pd\n",
    "import numpy as np\n",
    "from Bio.SeqUtils.ProtParam import ProteinAnalysis\n",
    "\n",
    "from sklearn.model_selection import train_test_split\n",
    "from sklearn.preprocessing import StandardScaler\n",
    "from sklearn.metrics import precision_score, recall_score, f1_score, accuracy_score\n",
    "from sklearn.metrics import roc_curve, auc\n",
    "from sklearn.metrics import precision_recall_curve, average_precision_score\n",
    "from sklearn.manifold import TSNE\n",
    "\n",
    "from transformers import BertModel, BertTokenizer\n",
    "\n",
    "import torch\n",
    "import torch.nn as nn\n",
    "from torch.utils.data import TensorDataset, DataLoader\n",
    "\n",
    "import seaborn as sns\n",
    "import matplotlib.pyplot as plt\n",
    "\n",
    "from tqdm import tqdm"
   ]
  },
  {
   "cell_type": "code",
   "execution_count": 119,
   "id": "4ea53ad6",
   "metadata": {},
   "outputs": [],
   "source": [
    "device = torch.device(\"mps\" if torch.backends.mps.is_available() else \"cpu\")\n",
    "warnings.filterwarnings(\"ignore\")"
   ]
  },
  {
   "cell_type": "markdown",
   "id": "bec1f1d7",
   "metadata": {},
   "source": [
    "### Final DataFrame"
   ]
  },
  {
   "cell_type": "markdown",
   "id": "355a767b",
   "metadata": {},
   "source": [
    "#### Feature Engineering"
   ]
  },
  {
   "cell_type": "code",
   "execution_count": 120,
   "id": "d6f2e2e2",
   "metadata": {},
   "outputs": [],
   "source": [
    "df = pd.read_csv(\"./all_windows.csv\")"
   ]
  },
  {
   "cell_type": "code",
   "execution_count": 121,
   "id": "bce1948b",
   "metadata": {},
   "outputs": [],
   "source": [
    "def extract_bio_features(seq):\n",
    "    pa = ProteinAnalysis(seq)\n",
    "    aa_count = pa.count_amino_acids()\n",
    "    length = len(seq)\n",
    "    basic = sum(aa_count.get(aa, 0) for aa in \"KRH\")\n",
    "    acidic = sum(aa_count.get(aa, 0) for aa in \"DE\")\n",
    "    hydrophobic = sum(aa_count.get(aa, 0) for aa in \"AILMFWV\")\n",
    "    polar = sum(aa_count.get(aa, 0) for aa in \"STNQYCH\")\n",
    "    return {\n",
    "        \"molecular_weight\": pa.molecular_weight(),\n",
    "        \"isoelectric_point\": pa.isoelectric_point(),\n",
    "        \"aromaticity\": pa.aromaticity(),\n",
    "        \"instability_index\": pa.instability_index(),\n",
    "        \"gravy\": pa.gravy(),\n",
    "        \"flexibility_avg\": sum(pa.flexibility()) / length,\n",
    "        \"basic_fraction\": basic / length,\n",
    "        \"acidic_fraction\": acidic / length,\n",
    "        \"hydrophobic_fraction\": hydrophobic / length,\n",
    "        \"polar_fraction\": polar / length,\n",
    "        \"net_charge\": basic - acidic,\n",
    "        \"P1_is_R\": int(seq[3] == 'R') if length > 3 else 0,\n",
    "        \"P4_is_R\": int(seq[0] == 'R') if length > 0 else 0,\n",
    "        \"P2_is_KR\": int(seq[2] in \"KR\") if length > 2 else 0,\n",
    "        \"has_RXKR\": int(\"R\" in seq and seq.find(\"R\") <= length - 3 and seq[seq.find(\"R\")+2:seq.find(\"R\")+4] == \"KR\")\n",
    "    }\n",
    "\n",
    "df_bio_features = df[\"cleavage_window\"].apply(extract_bio_features).apply(pd.Series)"
   ]
  },
  {
   "cell_type": "markdown",
   "id": "69f80f83",
   "metadata": {},
   "source": [
    "#### ProtBERT Embeddings"
   ]
  },
  {
   "cell_type": "code",
   "execution_count": 122,
   "id": "58a71c9b",
   "metadata": {},
   "outputs": [
    {
     "name": "stderr",
     "output_type": "stream",
     "text": [
      "100%|██████████| 3236/3236 [00:53<00:00, 60.15it/s]\n"
     ]
    }
   ],
   "source": [
    "tokenizer = BertTokenizer.from_pretrained(\"Rostlab/prot_bert\", do_lower_case=False)\n",
    "bert_model = BertModel.from_pretrained(\"Rostlab/prot_bert\").eval()\n",
    "bert_model = bert_model.to(device)\n",
    "\n",
    "def format_peptide(seq):\n",
    "    return ' '.join(seq)\n",
    "\n",
    "def get_protbert_embedding(seq):\n",
    "    seq = format_peptide(seq)\n",
    "    tokens = tokenizer(seq, return_tensors=\"pt\")\n",
    "    input_ids = tokens[\"input_ids\"].to(device)\n",
    "    attention_mask = tokens[\"attention_mask\"].to(device)\n",
    "    with torch.no_grad():\n",
    "        outputs = bert_model(input_ids=input_ids, attention_mask=attention_mask)\n",
    "        return outputs.last_hidden_state[0, 0, :].cpu().numpy()\n",
    "\n",
    "embeddings = [get_protbert_embedding(seq) for seq in tqdm(df[\"cleavage_window\"])]\n",
    "df_bert = pd.DataFrame(embeddings)"
   ]
  },
  {
   "cell_type": "markdown",
   "id": "6b733be0",
   "metadata": {},
   "source": [
    "#### Concat"
   ]
  },
  {
   "cell_type": "code",
   "execution_count": 123,
   "id": "d7576123",
   "metadata": {},
   "outputs": [],
   "source": [
    "df_bert.columns = df_bert.columns.astype(str)\n",
    "df_bio_features.columns = df_bio_features.columns.astype(str)\n",
    "\n",
    "df_full = pd.concat([df_bio_features.reset_index(drop=True), df_bert.reset_index(drop=True), df[\"label\"].reset_index(drop=True)], axis=1)\n",
    "\n",
    "X = df_full.drop(\"label\", axis=1).astype(\"float32\")\n",
    "y = df_full[\"label\"].astype(\"float32\")"
   ]
  },
  {
   "cell_type": "code",
   "execution_count": 124,
   "id": "dc0a7f3e",
   "metadata": {},
   "outputs": [
    {
     "data": {
      "text/html": [
       "<div>\n",
       "<style scoped>\n",
       "    .dataframe tbody tr th:only-of-type {\n",
       "        vertical-align: middle;\n",
       "    }\n",
       "\n",
       "    .dataframe tbody tr th {\n",
       "        vertical-align: top;\n",
       "    }\n",
       "\n",
       "    .dataframe thead th {\n",
       "        text-align: right;\n",
       "    }\n",
       "</style>\n",
       "<table border=\"1\" class=\"dataframe\">\n",
       "  <thead>\n",
       "    <tr style=\"text-align: right;\">\n",
       "      <th></th>\n",
       "      <th>molecular_weight</th>\n",
       "      <th>isoelectric_point</th>\n",
       "      <th>aromaticity</th>\n",
       "      <th>instability_index</th>\n",
       "      <th>gravy</th>\n",
       "      <th>flexibility_avg</th>\n",
       "      <th>basic_fraction</th>\n",
       "      <th>acidic_fraction</th>\n",
       "      <th>hydrophobic_fraction</th>\n",
       "      <th>polar_fraction</th>\n",
       "      <th>...</th>\n",
       "      <th>1015</th>\n",
       "      <th>1016</th>\n",
       "      <th>1017</th>\n",
       "      <th>1018</th>\n",
       "      <th>1019</th>\n",
       "      <th>1020</th>\n",
       "      <th>1021</th>\n",
       "      <th>1022</th>\n",
       "      <th>1023</th>\n",
       "      <th>label</th>\n",
       "    </tr>\n",
       "  </thead>\n",
       "  <tbody>\n",
       "    <tr>\n",
       "      <th>0</th>\n",
       "      <td>830.9523</td>\n",
       "      <td>9.795020</td>\n",
       "      <td>0.000</td>\n",
       "      <td>77.6125</td>\n",
       "      <td>-0.3625</td>\n",
       "      <td>0.0</td>\n",
       "      <td>0.125</td>\n",
       "      <td>0.000</td>\n",
       "      <td>0.375</td>\n",
       "      <td>0.250</td>\n",
       "      <td>...</td>\n",
       "      <td>0.027726</td>\n",
       "      <td>-0.033809</td>\n",
       "      <td>-0.112222</td>\n",
       "      <td>0.000381</td>\n",
       "      <td>-0.149614</td>\n",
       "      <td>-0.102910</td>\n",
       "      <td>-0.039104</td>\n",
       "      <td>-0.059422</td>\n",
       "      <td>-0.015624</td>\n",
       "      <td>0</td>\n",
       "    </tr>\n",
       "    <tr>\n",
       "      <th>1</th>\n",
       "      <td>1029.2378</td>\n",
       "      <td>11.000385</td>\n",
       "      <td>0.000</td>\n",
       "      <td>73.5750</td>\n",
       "      <td>-1.6875</td>\n",
       "      <td>0.0</td>\n",
       "      <td>0.500</td>\n",
       "      <td>0.125</td>\n",
       "      <td>0.250</td>\n",
       "      <td>0.125</td>\n",
       "      <td>...</td>\n",
       "      <td>0.040532</td>\n",
       "      <td>-0.090537</td>\n",
       "      <td>-0.157128</td>\n",
       "      <td>0.056218</td>\n",
       "      <td>-0.180328</td>\n",
       "      <td>-0.132918</td>\n",
       "      <td>-0.053840</td>\n",
       "      <td>-0.035835</td>\n",
       "      <td>0.027600</td>\n",
       "      <td>0</td>\n",
       "    </tr>\n",
       "    <tr>\n",
       "      <th>2</th>\n",
       "      <td>884.0581</td>\n",
       "      <td>9.507749</td>\n",
       "      <td>0.000</td>\n",
       "      <td>77.0250</td>\n",
       "      <td>-1.1000</td>\n",
       "      <td>0.0</td>\n",
       "      <td>0.250</td>\n",
       "      <td>0.000</td>\n",
       "      <td>0.125</td>\n",
       "      <td>0.250</td>\n",
       "      <td>...</td>\n",
       "      <td>-0.035274</td>\n",
       "      <td>0.010787</td>\n",
       "      <td>-0.086449</td>\n",
       "      <td>0.007868</td>\n",
       "      <td>-0.219744</td>\n",
       "      <td>-0.103184</td>\n",
       "      <td>-0.061995</td>\n",
       "      <td>-0.046654</td>\n",
       "      <td>-0.003053</td>\n",
       "      <td>1</td>\n",
       "    </tr>\n",
       "    <tr>\n",
       "      <th>3</th>\n",
       "      <td>986.1667</td>\n",
       "      <td>8.687711</td>\n",
       "      <td>0.000</td>\n",
       "      <td>-1.8625</td>\n",
       "      <td>-1.2375</td>\n",
       "      <td>0.0</td>\n",
       "      <td>0.375</td>\n",
       "      <td>0.250</td>\n",
       "      <td>0.375</td>\n",
       "      <td>0.000</td>\n",
       "      <td>...</td>\n",
       "      <td>0.054173</td>\n",
       "      <td>0.017081</td>\n",
       "      <td>-0.119059</td>\n",
       "      <td>-0.072451</td>\n",
       "      <td>-0.126138</td>\n",
       "      <td>-0.074783</td>\n",
       "      <td>-0.041763</td>\n",
       "      <td>-0.055947</td>\n",
       "      <td>-0.019595</td>\n",
       "      <td>0</td>\n",
       "    </tr>\n",
       "    <tr>\n",
       "      <th>4</th>\n",
       "      <td>1089.2445</td>\n",
       "      <td>6.915680</td>\n",
       "      <td>0.375</td>\n",
       "      <td>44.6500</td>\n",
       "      <td>-0.0250</td>\n",
       "      <td>0.0</td>\n",
       "      <td>0.250</td>\n",
       "      <td>0.000</td>\n",
       "      <td>0.375</td>\n",
       "      <td>0.500</td>\n",
       "      <td>...</td>\n",
       "      <td>-0.000230</td>\n",
       "      <td>0.049908</td>\n",
       "      <td>-0.161530</td>\n",
       "      <td>0.078383</td>\n",
       "      <td>-0.210160</td>\n",
       "      <td>-0.120043</td>\n",
       "      <td>-0.092228</td>\n",
       "      <td>0.092471</td>\n",
       "      <td>0.038006</td>\n",
       "      <td>1</td>\n",
       "    </tr>\n",
       "  </tbody>\n",
       "</table>\n",
       "<p>5 rows × 1040 columns</p>\n",
       "</div>"
      ],
      "text/plain": [
       "   molecular_weight  isoelectric_point  aromaticity  instability_index  \\\n",
       "0          830.9523           9.795020        0.000            77.6125   \n",
       "1         1029.2378          11.000385        0.000            73.5750   \n",
       "2          884.0581           9.507749        0.000            77.0250   \n",
       "3          986.1667           8.687711        0.000            -1.8625   \n",
       "4         1089.2445           6.915680        0.375            44.6500   \n",
       "\n",
       "    gravy  flexibility_avg  basic_fraction  acidic_fraction  \\\n",
       "0 -0.3625              0.0           0.125            0.000   \n",
       "1 -1.6875              0.0           0.500            0.125   \n",
       "2 -1.1000              0.0           0.250            0.000   \n",
       "3 -1.2375              0.0           0.375            0.250   \n",
       "4 -0.0250              0.0           0.250            0.000   \n",
       "\n",
       "   hydrophobic_fraction  polar_fraction  ...      1015      1016      1017  \\\n",
       "0                 0.375           0.250  ...  0.027726 -0.033809 -0.112222   \n",
       "1                 0.250           0.125  ...  0.040532 -0.090537 -0.157128   \n",
       "2                 0.125           0.250  ... -0.035274  0.010787 -0.086449   \n",
       "3                 0.375           0.000  ...  0.054173  0.017081 -0.119059   \n",
       "4                 0.375           0.500  ... -0.000230  0.049908 -0.161530   \n",
       "\n",
       "       1018      1019      1020      1021      1022      1023  label  \n",
       "0  0.000381 -0.149614 -0.102910 -0.039104 -0.059422 -0.015624      0  \n",
       "1  0.056218 -0.180328 -0.132918 -0.053840 -0.035835  0.027600      0  \n",
       "2  0.007868 -0.219744 -0.103184 -0.061995 -0.046654 -0.003053      1  \n",
       "3 -0.072451 -0.126138 -0.074783 -0.041763 -0.055947 -0.019595      0  \n",
       "4  0.078383 -0.210160 -0.120043 -0.092228  0.092471  0.038006      1  \n",
       "\n",
       "[5 rows x 1040 columns]"
      ]
     },
     "execution_count": 124,
     "metadata": {},
     "output_type": "execute_result"
    }
   ],
   "source": [
    "df_full.head()"
   ]
  },
  {
   "cell_type": "markdown",
   "id": "d62d2355",
   "metadata": {},
   "source": [
    "### Modeling"
   ]
  },
  {
   "cell_type": "markdown",
   "id": "8f1277a2",
   "metadata": {},
   "source": [
    "#### Train Test Split"
   ]
  },
  {
   "cell_type": "code",
   "execution_count": 125,
   "id": "91ba7411",
   "metadata": {},
   "outputs": [],
   "source": [
    "X = df_full.drop(\"label\", axis=1).astype(\"float32\")\n",
    "y = df_full[\"label\"].astype(\"float32\")\n",
    "\n",
    "X_train_raw, X_test_raw, y_train, y_test = train_test_split(\n",
    "    X, y, test_size=0.2, stratify=y, random_state=42\n",
    ")\n",
    "\n",
    "scaler = StandardScaler()\n",
    "X_train = scaler.fit_transform(X_train_raw)\n",
    "X_test = scaler.transform(X_test_raw)"
   ]
  },
  {
   "cell_type": "markdown",
   "id": "b9126868",
   "metadata": {},
   "source": [
    "#### DataLoader"
   ]
  },
  {
   "cell_type": "code",
   "execution_count": 126,
   "id": "cfa8b124",
   "metadata": {},
   "outputs": [],
   "source": [
    "train_ds = TensorDataset(torch.tensor(X_train, dtype=torch.float32), torch.tensor(y_train.values, dtype=torch.float32))\n",
    "test_ds = TensorDataset(torch.tensor(X_test, dtype=torch.float32), torch.tensor(y_test.values, dtype=torch.float32))\n",
    "\n",
    "train_loader = DataLoader(train_ds, batch_size=16, shuffle=True)\n",
    "test_loader = DataLoader(test_ds, batch_size=16)\n",
    "\n",
    "class BiochemBERTMLP(nn.Module):\n",
    "    def __init__(self, input_dim):\n",
    "        super().__init__()\n",
    "        self.net = nn.Sequential(\n",
    "            nn.Linear(input_dim, 128),\n",
    "            nn.BatchNorm1d(128),\n",
    "            nn.LeakyReLU(0.1),\n",
    "            nn.Dropout(0.3),\n",
    "            nn.Linear(128, 64),\n",
    "            nn.BatchNorm1d(64),\n",
    "            nn.LeakyReLU(0.1),\n",
    "            nn.Dropout(0.2),\n",
    "            nn.Linear(64, 1),\n",
    "            nn.Sigmoid()\n",
    "        )\n",
    "    def forward(self, x):\n",
    "        return self.net(x)\n",
    "\n",
    "model = BiochemBERTMLP(X.shape[1]).to(device)\n",
    "loss_fn = nn.BCELoss()\n",
    "optimizer = torch.optim.Adam(model.parameters(), lr=1e-3)"
   ]
  },
  {
   "cell_type": "code",
   "execution_count": 127,
   "id": "dcfe7140",
   "metadata": {},
   "outputs": [],
   "source": [
    "def evaluate_model(model, data_loader, threshold=0.5):\n",
    "    model.eval()\n",
    "    y_true, y_pred_prob = [], []\n",
    "\n",
    "    with torch.no_grad():\n",
    "        for xb, yb in data_loader:\n",
    "            xb = xb.to(device)\n",
    "            y_true.extend(yb.numpy())\n",
    "            preds = model(xb).squeeze().cpu().numpy()\n",
    "            y_pred_prob.extend(preds)\n",
    "\n",
    "    y_pred_bin = [1 if p > threshold else 0 for p in y_pred_prob]\n",
    "\n",
    "    return {\n",
    "        \"accuracy\": accuracy_score(y_true, y_pred_bin),\n",
    "        \"precision\": precision_score(y_true, y_pred_bin),\n",
    "        \"recall\": recall_score(y_true, y_pred_bin),\n",
    "        \"f1_score\": f1_score(y_true, y_pred_bin)\n",
    "    }"
   ]
  },
  {
   "cell_type": "code",
   "execution_count": 128,
   "id": "940dac2a",
   "metadata": {},
   "outputs": [
    {
     "name": "stdout",
     "output_type": "stream",
     "text": [
      "Epoch  1 | Loss: 0.5055 | Acc: 0.835 | Prec: 0.735 | Rec: 0.531 | F1: 0.616\n",
      "Epoch  2 | Loss: 0.3599 | Acc: 0.866 | Prec: 0.778 | Rec: 0.648 | F1: 0.707\n",
      "Epoch  3 | Loss: 0.2841 | Acc: 0.906 | Prec: 0.898 | Rec: 0.704 | F1: 0.789\n",
      "Epoch  4 | Loss: 0.2168 | Acc: 0.894 | Prec: 0.821 | Rec: 0.735 | F1: 0.775\n",
      "Epoch  5 | Loss: 0.2232 | Acc: 0.938 | Prec: 0.936 | Rec: 0.809 | F1: 0.868\n",
      "Epoch  6 | Loss: 0.1881 | Acc: 0.935 | Prec: 0.929 | Rec: 0.802 | F1: 0.861\n",
      "Epoch  7 | Loss: 0.1816 | Acc: 0.937 | Prec: 0.923 | Rec: 0.815 | F1: 0.866\n",
      "Epoch  8 | Loss: 0.1560 | Acc: 0.929 | Prec: 0.903 | Rec: 0.802 | F1: 0.850\n",
      "Epoch  9 | Loss: 0.1540 | Acc: 0.927 | Prec: 0.886 | Rec: 0.815 | F1: 0.849\n",
      "Epoch 10 | Loss: 0.1428 | Acc: 0.940 | Prec: 0.902 | Rec: 0.852 | F1: 0.876\n"
     ]
    }
   ],
   "source": [
    "num_epochs = 10\n",
    "for epoch in range(1, num_epochs + 1):\n",
    "    model.train()\n",
    "    epoch_loss = 0\n",
    "    total_samples = 0\n",
    "\n",
    "    for xb, yb in train_loader:\n",
    "        xb, yb = xb.to(device), yb.to(device)\n",
    "        optimizer.zero_grad()\n",
    "        preds = model(xb).squeeze()\n",
    "        loss = loss_fn(preds, yb)\n",
    "        loss.backward()\n",
    "        optimizer.step()\n",
    "\n",
    "        epoch_loss += loss.item() * len(xb)\n",
    "        total_samples += len(xb)\n",
    "\n",
    "    avg_loss = epoch_loss / total_samples\n",
    "    metrics = evaluate_model(model, test_loader)\n",
    "\n",
    "    print(f\"Epoch {epoch:2d} | Loss: {avg_loss:.4f} | \"\n",
    "          f\"Acc: {metrics['accuracy']:.3f} | \"\n",
    "          f\"Prec: {metrics['precision']:.3f} | \"\n",
    "          f\"Rec: {metrics['recall']:.3f} | \"\n",
    "          f\"F1: {metrics['f1_score']:.3f}\")"
   ]
  },
  {
   "cell_type": "code",
   "execution_count": 129,
   "id": "e6fb8e7a",
   "metadata": {},
   "outputs": [
    {
     "name": "stdout",
     "output_type": "stream",
     "text": [
      "Prediction mean: 0.24351431\n",
      "Prediction min/max: 1.4624492e-05 0.99997914\n"
     ]
    }
   ],
   "source": [
    "model.eval()\n",
    "y_pred_probs = []\n",
    "y_true = []\n",
    "\n",
    "with torch.no_grad():\n",
    "    for xb, yb in test_loader:\n",
    "        xb = xb.to(device)\n",
    "        preds = model(xb).squeeze().cpu().numpy()\n",
    "        y_pred_probs.extend(preds)\n",
    "        y_true.extend(yb.numpy())\n",
    "\n",
    "print(\"Prediction mean:\", np.mean(y_pred_probs))\n",
    "print(\"Prediction min/max:\", np.min(y_pred_probs), np.max(y_pred_probs))"
   ]
  },
  {
   "cell_type": "markdown",
   "id": "99fb5928",
   "metadata": {},
   "source": [
    "### Candidates"
   ]
  },
  {
   "cell_type": "code",
   "execution_count": null,
   "id": "9056e780",
   "metadata": {},
   "outputs": [],
   "source": [
    "AA_COST = {\n",
    "    'A': 1.0,\n",
    "    'C': 5.0,\n",
    "    'D': 2.0,\n",
    "    'E': 2.0,\n",
    "    'F': 3.5,\n",
    "    'G': 2.0,\n",
    "    'H': 3.0,\n",
    "    'I': 2.5,\n",
    "    'K': 2.0,\n",
    "    'L': 2.0,\n",
    "    'M': 4.5,\n",
    "    'N': 2.0,\n",
    "    'P': 3.0,\n",
    "    'Q': 2.0,\n",
    "    'R': 1.5,\n",
    "    'S': 1.0,\n",
    "    'T': 0.8,\n",
    "    'V': 2.0,\n",
    "    'W': 6.0,\n",
    "    'Y': 4.0\n",
    "}\n",
    "\n",
    "def peptide_cost(seq: str) -> int:\n",
    "    return sum(AA_COST.get(aa, 10) for aa in seq)\n",
    "\n",
    "def compute_efficiency(prob, cost, min_cost=5, max_cost=15, cleavage_weight=0.85, cost_weight=0.15):\n",
    "    cost_norm = (cost - min_cost) / (max_cost - min_cost)\n",
    "    cost_penalty = 1 - cost_norm\n",
    "    cost_penalty = max(0, min(cost_penalty, 1))\n",
    "    score = (cleavage_weight * prob) + (cost_weight * cost_penalty)\n",
    "    return round(min(score, 1.0), 4)"
   ]
  },
  {
   "cell_type": "code",
   "execution_count": 198,
   "id": "91bd641c",
   "metadata": {},
   "outputs": [],
   "source": [
    "def score_peptide(seq):\n",
    "    bio = extract_bio_features(seq)\n",
    "    bert = get_protbert_embedding(seq)\n",
    "\n",
    "    combined = np.concatenate([np.array(list(bio.values()), dtype=np.float32), bert])\n",
    "    combined_scaled = scaler.transform([combined])\n",
    "\n",
    "    with torch.no_grad():\n",
    "        x_tensor = torch.tensor(combined_scaled, dtype=torch.float32).to(device)\n",
    "        prob = model(x_tensor).item()\n",
    "\n",
    "    cost = peptide_cost(seq)\n",
    "    efficiency = compute_efficiency(prob, cost)\n",
    "\n",
    "    return {\n",
    "        \"peptide\": seq,\n",
    "        \"cleavage_prob\": prob,\n",
    "        \"synthesis_cost\": cost,\n",
    "        \"efficiency\": efficiency,\n",
    "        **bio\n",
    "    }"
   ]
  },
  {
   "cell_type": "code",
   "execution_count": 199,
   "id": "87327213",
   "metadata": {},
   "outputs": [],
   "source": [
    "AA = \"ACDEFGHIKLMNPQRSTVWY\"\n",
    "BASIC = \"KR\"\n",
    "candidates = []\n",
    "\n",
    "# R-X-[K/R]-R↓\n",
    "for p3 in AA:\n",
    "    for p2 in BASIC:\n",
    "        for p1p in AA:\n",
    "            pep = \"R\" + p3 + p2 + \"R\" + p1p\n",
    "            candidates.append(pep)"
   ]
  },
  {
   "cell_type": "code",
   "execution_count": 200,
   "id": "61bda9ae",
   "metadata": {},
   "outputs": [],
   "source": [
    "scored_peptides = [score_peptide(p) for p in candidates]\n",
    "df_candidates = pd.DataFrame(scored_peptides).sort_values(\"efficiency\", ascending=False)"
   ]
  },
  {
   "cell_type": "code",
   "execution_count": 201,
   "id": "f682f0ec",
   "metadata": {},
   "outputs": [
    {
     "name": "stdout",
     "output_type": "stream",
     "text": [
      "    peptide  efficiency  cleavage_prob  synthesis_cost\n",
      "580   RRRRA      0.9655       0.994725             7.0\n",
      "676   RTRRT      0.9649       0.978065             6.1\n",
      "674   RTRRR      0.9648       0.990402             6.8\n",
      "576   RRKRT      0.9643       0.989780             6.8\n",
      "636   RSRRT      0.9640       0.980538             6.3\n",
      "335   RKKRS      0.9631       0.991876             7.0\n",
      "625   RSRRG      0.9621       0.999491             7.5\n",
      "594   RRRRR      0.9618       0.999169             7.5\n",
      "617   RSKRV      0.9602       0.997345             7.5\n",
      "635   RSRRS      0.9594       0.978648             6.5\n",
      "614   RSKRR      0.9582       0.986093             7.0\n",
      "574   RRKRR      0.9568       0.993258             7.5\n",
      "334   RKKRR      0.9560       0.992395             7.5\n",
      "603   RSKRE      0.9559       0.992207             7.5\n",
      "695   RVKRS      0.9556       0.991931             7.5\n",
      "655   RTKRS      0.9549       0.969940             6.3\n",
      "234   RGRRR      0.9547       0.999593             8.0\n",
      "345   RKRRG      0.9545       0.999419             8.0\n",
      "15    RAKRS      0.9542       0.972637             6.5\n",
      "354   RKRRR      0.9527       0.988498             7.5\n"
     ]
    }
   ],
   "source": [
    "print(df_candidates[[\"peptide\", \"efficiency\", \"cleavage_prob\", \"synthesis_cost\"]].head(20))"
   ]
  },
  {
   "cell_type": "markdown",
   "id": "59165cc5",
   "metadata": {},
   "source": [
    "### Plots"
   ]
  },
  {
   "cell_type": "code",
   "execution_count": 164,
   "id": "7f12dd73",
   "metadata": {},
   "outputs": [],
   "source": [
    "def plot_roc(y_true, y_probs):\n",
    "    fpr, tpr, _ = roc_curve(y_true, y_probs)\n",
    "    roc_auc = auc(fpr, tpr)\n",
    "\n",
    "    plt.figure(figsize=(6, 5))\n",
    "    plt.plot(fpr, tpr, label=f\"AUC = {roc_auc:.3f}\", lw=2, color=\"darkorange\")\n",
    "    plt.plot([0, 1], [0, 1], color=\"gray\", linestyle=\"--\")\n",
    "    plt.xlabel(\"False Positive Rate\")\n",
    "    plt.ylabel(\"True Positive Rate\")\n",
    "    plt.title(\"ROC Curve\")\n",
    "    plt.legend(loc=\"lower right\")\n",
    "    plt.grid(True)\n",
    "    plt.tight_layout()\n",
    "    plt.show()"
   ]
  },
  {
   "cell_type": "code",
   "execution_count": 165,
   "id": "9a4a36a4",
   "metadata": {},
   "outputs": [],
   "source": [
    "def plot_pr(y_true, y_probs):\n",
    "    precision, recall, _ = precision_recall_curve(y_true, y_probs)\n",
    "    ap = average_precision_score(y_true, y_probs)\n",
    "\n",
    "    plt.figure(figsize=(6, 5))\n",
    "    plt.plot(recall, precision, color=\"purple\", lw=2, label=f\"AP = {ap:.3f}\")\n",
    "    plt.xlabel(\"Recall\")\n",
    "    plt.ylabel(\"Precision\")\n",
    "    plt.title(\"Precision-Recall Curve\")\n",
    "    plt.grid(True)\n",
    "    plt.legend(loc=\"lower left\")\n",
    "    plt.tight_layout()\n",
    "    plt.show()"
   ]
  },
  {
   "cell_type": "code",
   "execution_count": null,
   "id": "2cee8dda",
   "metadata": {},
   "outputs": [],
   "source": [
    "def plot_top_candidates(df, top_n=20, xlim_min=0.9, xlim_max=1):\n",
    "    df_top = df.sort_values(\"efficiency\", ascending=False).head(top_n)\n",
    "\n",
    "    plt.figure(figsize=(10, 6))\n",
    "    ax = sns.barplot(\n",
    "        data=df_top,\n",
    "        x=\"efficiency\",\n",
    "        y=\"peptide\",\n",
    "        palette=\"viridis\"\n",
    "    )\n",
    "\n",
    "    for _, bar in enumerate(ax.patches):\n",
    "        width = bar.get_width()\n",
    "        y = bar.get_y() + bar.get_height() / 2\n",
    "        ax.text(\n",
    "            width + 0.005, y,\n",
    "            f\"{width:.3f}\",\n",
    "            va=\"center\", ha=\"left\",\n",
    "            fontsize=9, color=\"black\"\n",
    "        )\n",
    "\n",
    "    plt.title(f\"Top {top_n} Peptides Efficiency\", fontsize=15, weight=\"semibold\")\n",
    "    plt.xlabel(\"Efficiency Score\", fontsize=12)\n",
    "    plt.ylabel(\"Peptide\", fontsize=12)\n",
    "    plt.xlim(xlim_min, xlim_max)\n",
    "    plt.xticks(fontsize=10)\n",
    "    plt.yticks(fontsize=10)\n",
    "    plt.grid(axis=\"x\", linestyle=\"--\", alpha=0.3)\n",
    "    plt.tight_layout()\n",
    "    plt.show()"
   ]
  },
  {
   "cell_type": "code",
   "execution_count": 167,
   "id": "9d79d489",
   "metadata": {},
   "outputs": [
    {
     "data": {
      "image/png": "[encoded data removed]",
      "text/plain": [
       "<Figure size 600x500 with 1 Axes>"
      ]
     },
     "metadata": {},
     "output_type": "display_data"
    },
    {
     "data": {
      "image/png": "[encoded data removed]",
      "text/plain": [
       "<Figure size 600x500 with 1 Axes>"
      ]
     },
     "metadata": {},
     "output_type": "display_data"
    },
    {
     "data": {
      "image/png": "[encoded data removed]",
      "text/plain": [
       "<Figure size 1000x600 with 1 Axes>"
      ]
     },
     "metadata": {},
     "output_type": "display_data"
    }
   ],
   "source": [
    "plot_roc(y_test, y_pred_probs)\n",
    "plot_pr(y_test, y_pred_probs)\n",
    "plot_top_candidates(df_candidates)\n"
   ]
  },
  {
   "cell_type": "code",
   "execution_count": null,
   "id": "7e9d7677",
   "metadata": {},
   "outputs": [],
   "source": []
  },
  {
   "cell_type": "code",
   "execution_count": null,
   "id": "047af01a",
   "metadata": {},
   "outputs": [],
   "source": []
  }
 ],
 "metadata": {
  "kernelspec": {
   "display_name": "CleavAI",
   "language": "python",
   "name": "python3"
  },
  "language_info": {
   "codemirror_mode": {
    "name": "ipython",
    "version": 3
   },
   "file_extension": ".py",
   "mimetype": "text/x-python",
   "name": "python",
   "nbconvert_exporter": "python",
   "pygments_lexer": "ipython3",
   "version": "3.10.18"
  }
 },
 "nbformat": 4,
 "nbformat_minor": 5
}
