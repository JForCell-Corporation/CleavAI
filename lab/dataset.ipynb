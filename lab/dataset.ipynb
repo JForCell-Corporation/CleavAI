{
 "cells": [
  {
   "cell_type": "markdown",
   "id": "1886b653",
   "metadata": {},
   "source": [
    "# CleavAI\n",
    "\n",
    "© 2025 JForCell Corporation. All Rights Reserved."
   ]
  },
  {
   "cell_type": "code",
   "execution_count": 1,
   "id": "266d229b",
   "metadata": {},
   "outputs": [],
   "source": [
    "import pandas as pd\n",
    "import numpy as np\n",
    "import random"
   ]
  },
  {
   "cell_type": "markdown",
   "id": "c763205d",
   "metadata": {},
   "source": [
    "## Compose dataset"
   ]
  },
  {
   "cell_type": "code",
   "execution_count": 2,
   "id": "cb77768a",
   "metadata": {},
   "outputs": [],
   "source": [
    "df_pos = pd.read_csv(\"./furin_cleavage_windows.csv\")\n",
    "df_pos[\"label\"] = 1"
   ]
  },
  {
   "cell_type": "code",
   "execution_count": 3,
   "id": "0e601945",
   "metadata": {},
   "outputs": [],
   "source": [
    "AMINO_ACIDS = \"ACDEFGHIKLMNPQRSTVWY\"\n",
    "\n",
    "def random_peptide(window=8):\n",
    "    while True:\n",
    "        pep = ''.join(random.choices(AMINO_ACIDS, k=window))\n",
    "        if pep[3] == 'R':  # P1 position\n",
    "            return pep\n",
    "\n",
    "neg_peptides = [random_peptide() for _ in range(len(df_pos))]\n",
    "\n",
    "df_neg = pd.DataFrame({\n",
    "    \"cleavage_window\": neg_peptides,\n",
    "    \"label\": 0\n",
    "})"
   ]
  },
  {
   "cell_type": "code",
   "execution_count": null,
   "id": "7e70efa9",
   "metadata": {},
   "outputs": [],
   "source": [
    "df_all = pd.concat([df_pos[[\"cleavage_window\", \"label\"]], df_neg], ignore_index=True).sample(frac=1).reset_index(drop=True)"
   ]
  },
  {
   "cell_type": "code",
   "execution_count": 5,
   "id": "257be4b4",
   "metadata": {},
   "outputs": [],
   "source": [
    "def one_hot_encode(seq):\n",
    "    aa_to_idx = {aa: i for i, aa in enumerate(AMINO_ACIDS)}\n",
    "    encoding = np.zeros((8, 20), dtype=int)\n",
    "    for i, aa in enumerate(seq):\n",
    "        if aa in aa_to_idx:\n",
    "            encoding[i, aa_to_idx[aa]] = 1\n",
    "    return encoding\n",
    "\n",
    "X = np.stack(df_all[\"cleavage_window\"].map(one_hot_encode))\n",
    "y = df_all[\"label\"].values"
   ]
  },
  {
   "cell_type": "markdown",
   "id": "e02c9bbb",
   "metadata": {},
   "source": [
    "## Testing simple classification models"
   ]
  },
  {
   "cell_type": "code",
   "execution_count": null,
   "id": "3f4148d8",
   "metadata": {},
   "outputs": [],
   "source": [
    "from sklearn.model_selection import train_test_split\n",
    "from sklearn.ensemble import RandomForestClassifier\n",
    "from sklearn.metrics import classification_report\n",
    "\n",
    "X_flat = X.reshape((X.shape[0], -1))\n",
    "\n",
    "X_train, X_test, y_train, y_test = train_test_split(X_flat, y, test_size=0.2, random_state=42)\n",
    "\n",
    "clf = RandomForestClassifier(n_estimators=100)\n",
    "clf.fit(X_train, y_train)\n",
    "\n",
    "y_pred = clf.predict(X_test)\n",
    "print(classification_report(y_test, y_pred))"
   ]
  }
 ],
 "metadata": {
  "kernelspec": {
   "display_name": "CleavAI",
   "language": "python",
   "name": "python3"
  },
  "language_info": {
   "codemirror_mode": {
    "name": "ipython",
    "version": 3
   },
   "file_extension": ".py",
   "mimetype": "text/x-python",
   "name": "python",
   "nbconvert_exporter": "python",
   "pygments_lexer": "ipython3",
   "version": "3.10.18"
  }
 },
 "nbformat": 4,
 "nbformat_minor": 5
}
