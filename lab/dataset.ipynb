{
 "cells": [
  {
   "cell_type": "markdown",
   "id": "1886b653",
   "metadata": {},
   "source": [
    "# CleavAI\n",
    "\n",
    "© 2025 JForCell Corporation. All Rights Reserved."
   ]
  },
  {
   "cell_type": "code",
   "execution_count": 2,
   "id": "266d229b",
   "metadata": {},
   "outputs": [],
   "source": [
    "import pandas as pd\n",
    "import numpy as np\n",
    "import random"
   ]
  },
  {
   "cell_type": "markdown",
   "id": "c763205d",
   "metadata": {},
   "source": [
    "### Positive Cleavage"
   ]
  },
  {
   "cell_type": "code",
   "execution_count": 3,
   "id": "cb77768a",
   "metadata": {},
   "outputs": [],
   "source": [
    "df_pos = pd.read_csv(\"./positive_windows.csv\")\n",
    "df_neg = pd.read_csv(\"./negative_windows.csv\")"
   ]
  },
  {
   "cell_type": "code",
   "execution_count": 4,
   "id": "7e70efa9",
   "metadata": {},
   "outputs": [],
   "source": [
    "df_all = pd.concat([df_pos[[\"cleavage_window\", \"label\"]], df_neg], ignore_index=True).sample(frac=1).reset_index(drop=True)"
   ]
  },
  {
   "cell_type": "code",
   "execution_count": 9,
   "id": "d163875b",
   "metadata": {},
   "outputs": [],
   "source": [
    "df_all.to_csv(\"all_windows.csv\", index=False)"
   ]
  },
  {
   "cell_type": "code",
   "execution_count": null,
   "id": "257be4b4",
   "metadata": {},
   "outputs": [],
   "source": [
    "# AMINO_ACIDS = \"ACDEFGHIKLMNPQRSTVWY\"\n",
    "\n",
    "# def one_hot_encode(seq):\n",
    "#     aa_to_idx = {aa: i for i, aa in enumerate(AMINO_ACIDS)}\n",
    "#     encoding = np.zeros((8, 20), dtype=int)\n",
    "#     for i, aa in enumerate(seq):\n",
    "#         if aa in aa_to_idx:\n",
    "#             encoding[i, aa_to_idx[aa]] = 1\n",
    "#     return encoding\n",
    "\n",
    "# X = np.stack(df_all[\"cleavage_window\"].map(one_hot_encode))\n",
    "# y = df_all[\"label\"].values.astype(np.float32)"
   ]
  },
  {
   "cell_type": "code",
   "execution_count": null,
   "id": "8f056d7e",
   "metadata": {},
   "outputs": [],
   "source": []
  }
 ],
 "metadata": {
  "kernelspec": {
   "display_name": "CleavAI",
   "language": "python",
   "name": "python3"
  },
  "language_info": {
   "codemirror_mode": {
    "name": "ipython",
    "version": 3
   },
   "file_extension": ".py",
   "mimetype": "text/x-python",
   "name": "python",
   "nbconvert_exporter": "python",
   "pygments_lexer": "ipython3",
   "version": "3.10.18"
  }
 },
 "nbformat": 4,
 "nbformat_minor": 5
}
